{
 "cells": [
  {
   "cell_type": "code",
   "execution_count": 1,
   "id": "fddc3acf-8b59-47cc-ad8d-d073d64af1f1",
   "metadata": {},
   "outputs": [
    {
     "name": "stdout",
     "output_type": "stream",
     "text": [
      "Hello World!\n"
     ]
    }
   ],
   "source": [
    "print('Hello World!')"
   ]
  },
  {
   "cell_type": "code",
   "execution_count": 1,
   "id": "cabcdeee-9ecb-41bf-a8fe-fe943ec1df42",
   "metadata": {},
   "outputs": [
    {
     "data": {
      "text/plain": [
       "42"
      ]
     },
     "execution_count": 1,
     "metadata": {},
     "output_type": "execute_result"
    }
   ],
   "source": [
    "40 + 2"
   ]
  },
  {
   "cell_type": "code",
   "execution_count": 2,
   "id": "da2b02f4-04a9-4376-ad04-1490e2c5c8ec",
   "metadata": {},
   "outputs": [
    {
     "data": {
      "text/plain": [
       "42"
      ]
     },
     "execution_count": 2,
     "metadata": {},
     "output_type": "execute_result"
    }
   ],
   "source": [
    "40+2"
   ]
  },
  {
   "cell_type": "code",
   "execution_count": 3,
   "id": "9694fe28-f834-49d6-8325-3afea719cf31",
   "metadata": {},
   "outputs": [
    {
     "data": {
      "text/plain": [
       "41.0"
      ]
     },
     "execution_count": 3,
     "metadata": {},
     "output_type": "execute_result"
    }
   ],
   "source": [
    "# huh. neat\n",
    "\n",
    "82/2"
   ]
  },
  {
   "cell_type": "code",
   "execution_count": 7,
   "id": "70486ed1-5647-496d-a5e2-762ec4d79265",
   "metadata": {},
   "outputs": [
    {
     "data": {
      "text/plain": [
       "42"
      ]
     },
     "execution_count": 7,
     "metadata": {},
     "output_type": "execute_result"
    }
   ],
   "source": [
    "6**2+6\n",
    "\n",
    "# so, the ** symbol performs exponention, not the ^ symbol. that means something else"
   ]
  },
  {
   "cell_type": "code",
   "execution_count": 5,
   "id": "907af9ea-8e48-48b4-8efc-3a5fd5dd50c3",
   "metadata": {},
   "outputs": [
    {
     "data": {
      "text/plain": [
       "9"
      ]
     },
     "execution_count": 5,
     "metadata": {},
     "output_type": "execute_result"
    }
   ],
   "source": [
    "2*2+5"
   ]
  },
  {
   "cell_type": "code",
   "execution_count": 8,
   "id": "80caf618-1c4d-4e35-8ced-789113f4eb96",
   "metadata": {},
   "outputs": [
    {
     "data": {
      "text/plain": [
       "int"
      ]
     },
     "execution_count": 8,
     "metadata": {},
     "output_type": "execute_result"
    }
   ],
   "source": [
    "type(2)"
   ]
  },
  {
   "cell_type": "code",
   "execution_count": 9,
   "id": "42e56ed9-f56e-4361-bfc4-b6fd89da3e8a",
   "metadata": {},
   "outputs": [
    {
     "data": {
      "text/plain": [
       "float"
      ]
     },
     "execution_count": 9,
     "metadata": {},
     "output_type": "execute_result"
    }
   ],
   "source": [
    "type(42.0)"
   ]
  },
  {
   "cell_type": "code",
   "execution_count": 12,
   "id": "fc329910-94e3-4d5e-beae-d8f0c6b42134",
   "metadata": {},
   "outputs": [
    {
     "data": {
      "text/plain": [
       "str"
      ]
     },
     "execution_count": 12,
     "metadata": {},
     "output_type": "execute_result"
    }
   ],
   "source": [
    "type('jeez louise')\n",
    "\n",
    "# i had an error here where i forgot to include the ' symbol before the tring in brackets. this straight up didn't run."
   ]
  },
  {
   "cell_type": "code",
   "execution_count": 1,
   "id": "f8f32426-1023-4991-ba1d-81f8a3998239",
   "metadata": {},
   "outputs": [
    {
     "data": {
      "text/plain": [
       "(1, 0, 0)"
      ]
     },
     "execution_count": 1,
     "metadata": {},
     "output_type": "execute_result"
    }
   ],
   "source": [
    "1,000,000"
   ]
  },
  {
   "cell_type": "code",
   "execution_count": 2,
   "id": "7ae28468-2ce1-45b7-9a83-dd1893c0cdb3",
   "metadata": {},
   "outputs": [
    {
     "name": "stdout",
     "output_type": "stream",
     "text": [
      "17\n"
     ]
    }
   ],
   "source": [
    "n=17\n",
    "print(n)"
   ]
  },
  {
   "cell_type": "code",
   "execution_count": 3,
   "id": "f00352df-1819-4d6e-9d8a-f441f41b92b2",
   "metadata": {},
   "outputs": [
    {
     "data": {
      "text/plain": [
       "5"
      ]
     },
     "execution_count": 3,
     "metadata": {},
     "output_type": "execute_result"
    }
   ],
   "source": [
    "5"
   ]
  },
  {
   "cell_type": "code",
   "execution_count": 4,
   "id": "daefd52a-a696-4c4b-a9e3-b76ad4730da6",
   "metadata": {},
   "outputs": [],
   "source": [
    "x=5"
   ]
  },
  {
   "cell_type": "code",
   "execution_count": 5,
   "id": "11fba564-66d9-4a45-b0bb-0e5cc3e6f228",
   "metadata": {},
   "outputs": [
    {
     "data": {
      "text/plain": [
       "6"
      ]
     },
     "execution_count": 5,
     "metadata": {},
     "output_type": "execute_result"
    }
   ],
   "source": [
    "x+1"
   ]
  },
  {
   "cell_type": "code",
   "execution_count": 22,
   "id": "b8d504b2-0ad1-41dd-abc1-078680b75d2d",
   "metadata": {},
   "outputs": [
    {
     "name": "stdout",
     "output_type": "stream",
     "text": [
      "4\n",
      "8\n",
      "70.0\n",
      "9\n",
      "18\n",
      "5\n",
      "6.5\n"
     ]
    }
   ],
   "source": [
    "# testing order of operations\n",
    "\n",
    "print(2*(3-1))\n",
    "\n",
    "print((1+1)**(5-2)) #recall that ** is exponention, not ^\n",
    "\n",
    "minutes=42\n",
    "\n",
    "print((minutes*100)/60)\n",
    "\n",
    "print(1+2**3)\n",
    "\n",
    "print(2*3**2)\n",
    "\n",
    "print(2*3-1)\n",
    "\n",
    "print(6+4/8)\n",
    "\n"
   ]
  },
  {
   "cell_type": "code",
   "execution_count": 28,
   "id": "8017a98e-f80e-4947-85dd-bf886de355c4",
   "metadata": {},
   "outputs": [
    {
     "name": "stdout",
     "output_type": "stream",
     "text": [
      "19.576058000862652\n",
      "19.576058000862652\n"
     ]
    }
   ],
   "source": [
    "degrees=123\n",
    "pi=3.1415926535\n",
    "\n",
    "# to divide by 2pi\n",
    "print(degrees/2/pi) # mathermatically correct, but more difficult to understand\n",
    "print(degrees/(2*pi)) # to make it more readable, since 2pi is 2*pi"
   ]
  },
  {
   "cell_type": "code",
   "execution_count": 30,
   "id": "b5f3b6ef-bf55-4163-b4d7-a920a60130aa",
   "metadata": {},
   "outputs": [
    {
     "name": "stdout",
     "output_type": "stream",
     "text": [
      "throatwarbler\n"
     ]
    },
    {
     "data": {
      "text/plain": [
       "'spamspamspam'"
      ]
     },
     "execution_count": 30,
     "metadata": {},
     "output_type": "execute_result"
    }
   ],
   "source": [
    "##### The charachters + and * perform string operations\n",
    "# + concatenates strings\n",
    "# * performs repetition\n",
    "\n",
    "first='throat'\n",
    "second='warbler'\n",
    "print(first+second)\n",
    "\n",
    "'spam'*3\n",
    "\n",
    "# addition and string concatenation are slightly different. concatention simply sticks the two strings togther, whereas addition performs addition."
   ]
  },
  {
   "cell_type": "code",
   "execution_count": 32,
   "id": "222c103f-cfc3-42af-9531-0f7ff755b1a2",
   "metadata": {},
   "outputs": [
    {
     "name": "stdout",
     "output_type": "stream",
     "text": [
      "70.0\n"
     ]
    }
   ],
   "source": [
    "# compute the percentage of time that has elapsed\n",
    "\n",
    "minute=42\n",
    "percentage=(minute*100)/60 # percentage of an hour\n",
    "print(percentage)"
   ]
  },
  {
   "cell_type": "code",
   "execution_count": null,
   "id": "788810a8-1326-44c9-8454-16151d826b59",
   "metadata": {},
   "outputs": [],
   "source": []
  }
 ],
 "metadata": {
  "kernelspec": {
   "display_name": "Python 3 (ipykernel)",
   "language": "python",
   "name": "python3"
  },
  "language_info": {
   "codemirror_mode": {
    "name": "ipython",
    "version": 3
   },
   "file_extension": ".py",
   "mimetype": "text/x-python",
   "name": "python",
   "nbconvert_exporter": "python",
   "pygments_lexer": "ipython3",
   "version": "3.12.3"
  }
 },
 "nbformat": 4,
 "nbformat_minor": 5
}
