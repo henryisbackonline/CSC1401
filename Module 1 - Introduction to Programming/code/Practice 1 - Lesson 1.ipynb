{
 "cells": [
  {
   "cell_type": "code",
   "execution_count": 19,
   "id": "02b602d8-fa43-4303-862e-cec509851969",
   "metadata": {},
   "outputs": [
    {
     "name": "stdout",
     "output_type": "stream",
     "text": [
      "big parade\n"
     ]
    }
   ],
   "source": [
    "#5. Find out which vaiable names are legal and follow Python naming conventions\n",
    "\n",
    "trombones_76='big parade'\n",
    "print(trombones_76)"
   ]
  },
  {
   "cell_type": "code",
   "execution_count": 7,
   "id": "c7c890eb-50b6-4d9e-9d56-d0791ee755c8",
   "metadata": {},
   "outputs": [
    {
     "ename": "SyntaxError",
     "evalue": "invalid syntax (1698167461.py, line 1)",
     "output_type": "error",
     "traceback": [
      "\u001b[1;36m  Cell \u001b[1;32mIn[7], line 1\u001b[1;36m\u001b[0m\n\u001b[1;33m    lambda=0.12\u001b[0m\n\u001b[1;37m          ^\u001b[0m\n\u001b[1;31mSyntaxError\u001b[0m\u001b[1;31m:\u001b[0m invalid syntax\n"
     ]
    }
   ],
   "source": [
    "lambda=0.12\n",
    "print(lambda)"
   ]
  },
  {
   "cell_type": "code",
   "execution_count": 8,
   "id": "ddd74f2a-29d3-4234-92bf-9e566745bf2d",
   "metadata": {},
   "outputs": [
    {
     "name": "stdout",
     "output_type": "stream",
     "text": [
      "42\n"
     ]
    }
   ],
   "source": [
    "Answer=42\n",
    "print(Answer)"
   ]
  },
  {
   "cell_type": "code",
   "execution_count": 10,
   "id": "8d629eca-9f34-4040-8fca-0d0cf1bef4c4",
   "metadata": {},
   "outputs": [
    {
     "name": "stdout",
     "output_type": "stream",
     "text": [
      "remember your trowel\n"
     ]
    }
   ],
   "source": [
    "myFirstString=\"remember your trowel\"\n",
    "print(myFirstString)"
   ]
  },
  {
   "cell_type": "code",
   "execution_count": 11,
   "id": "e01c9596-a491-42c1-adb9-93827eaff5f6",
   "metadata": {},
   "outputs": [
    {
     "name": "stdout",
     "output_type": "stream",
     "text": [
      "3.14159\n"
     ]
    }
   ],
   "source": [
    "float5=3.14159\n",
    "print(float5)"
   ]
  },
  {
   "cell_type": "code",
   "execution_count": 15,
   "id": "f8224c17-38ff-458f-acd9-75d31704df7f",
   "metadata": {},
   "outputs": [
    {
     "name": "stdout",
     "output_type": "stream",
     "text": [
      "42.0\n",
      "42\n",
      "80.0\n",
      "42\n",
      "42.0\n"
     ]
    }
   ],
   "source": [
    "#6.\tSelect the equation(s) below which evaluate to 42. Hint: Pay attention to PEMDAS and type\n",
    "\n",
    "print((4+8)*(6.5-3))\n",
    "print((1+2)**(5-2)+5*3)\n",
    "print(2**3*3**2+6+4/2)\n",
    "print((1+2)**3+(5-1)*3+4-1)\n",
    "print(3*7+6/2*(4+3))"
   ]
  },
  {
   "cell_type": "code",
   "execution_count": 18,
   "id": "de6a8944-c898-4fd8-bf30-02c98065617c",
   "metadata": {},
   "outputs": [],
   "source": [
    "### Practice using the python interpreter"
   ]
  },
  {
   "cell_type": "code",
   "execution_count": 22,
   "id": "eae60ccd-19db-4a72-9cfd-487677e7af05",
   "metadata": {},
   "outputs": [
    {
     "data": {
      "text/plain": [
       "12.56"
      ]
     },
     "execution_count": 22,
     "metadata": {},
     "output_type": "execute_result"
    }
   ],
   "source": [
    "# find volume of a cone\n",
    "\n",
    "h=3  #height of the cone\n",
    "r=2  #radius of the base\n",
    "pi=3.14\n",
    "\n",
    "volume=(1/3)*pi*r**2*h\n",
    "# print(volume) - answer given here is 12.559999999999999, this makes sense considering order of operations\n",
    "\n",
    "#checked againt wolfram alpha. they say it is 12.5664, but their pi approximation is much larger. \n",
    "#now I have to find out how to round the answer to two decimal places\n",
    "#should be the round() function\n",
    "\n",
    "round(volume, 2)\n",
    "#this worked well. take the result you want to round, then a comma, then the numbr of decimal placed to round to"
   ]
  },
  {
   "cell_type": "code",
   "execution_count": 23,
   "id": "1e62bbff-e9ef-4426-b657-2b5368750c94",
   "metadata": {},
   "outputs": [
    {
     "name": "stdout",
     "output_type": "stream",
     "text": [
      "38.0\n"
     ]
    }
   ],
   "source": [
    "#8.\tA group of 266 persons consists of men, women, and children. There are four times as many men as children, and twice as many women as children. How many children are there? \n",
    "\n",
    "group=266\n",
    "#children=x\n",
    "#men=4x\n",
    "#women=2x\n",
    "#x+2x+4x=7x, therefore 7x=266\n",
    "\n",
    "children=group/7\n",
    "print(children)"
   ]
  },
  {
   "cell_type": "code",
   "execution_count": 29,
   "id": "631fb23d-9727-4a41-a7d3-030eeedd22c8",
   "metadata": {},
   "outputs": [
    {
     "data": {
      "text/plain": [
       "72"
      ]
     },
     "execution_count": 29,
     "metadata": {},
     "output_type": "execute_result"
    }
   ],
   "source": [
    "#9.\tIf the sum of three consecutive numbers is 72, what is the largest number? \n",
    "72/3 #=24\n",
    "\n",
    "21+22+23 #=66 - too small\n",
    "28+29+30 #=87 - too large\n",
    "24+25+26 #=75 - almost\n",
    "23+24+25 #=72 - perfect\n",
    "\n",
    "# i can rety this and be smarter about it, knowing that i will probably need one number above and one number below 24 to make it work.\n",
    "# this is because 24+24+24 is 72. therefore, you can take one from the first number and add it to the thrid number, giving 23+24+25=72"
   ]
  },
  {
   "cell_type": "code",
   "execution_count": 32,
   "id": "c67fc075-d785-4f44-8348-48178e79dde2",
   "metadata": {},
   "outputs": [
    {
     "data": {
      "text/plain": [
       "72"
      ]
     },
     "execution_count": 32,
     "metadata": {},
     "output_type": "execute_result"
    }
   ],
   "source": [
    "#9.\tRETRY - If the sum of three consecutive numbers is 72, what is the largest number? \n",
    "\n",
    "72/3 #=24\n",
    "\n",
    "23+24+25 #also =24. see above block for logic"
   ]
  },
  {
   "cell_type": "code",
   "execution_count": 44,
   "id": "0ad3a8a2-9b75-4c53-b268-de94c88dd83d",
   "metadata": {},
   "outputs": [
    {
     "name": "stdout",
     "output_type": "stream",
     "text": [
      "py\n",
      "python\n",
      "python\n",
      "python4242\n"
     ]
    },
    {
     "data": {
      "text/plain": [
       "'python4242python4242'"
      ]
     },
     "execution_count": 44,
     "metadata": {},
     "output_type": "execute_result"
    }
   ],
   "source": [
    "#10. What is the value of x after the following statements are executed? \n",
    "\n",
    "x='py'\n",
    "print(x)\n",
    "\n",
    "x+='thon'\n",
    "print(x)\n",
    "\n",
    "y=z='42'\n",
    "print(x)\n",
    "\n",
    "x+=y+z\n",
    "print(x)\n",
    "\n",
    "#x*=2 is what is written in the questions. I think this may be an error - result is python4242\n",
    "\n",
    "x*2 #this may be the intent - result is 'python4242python4242'"
   ]
  },
  {
   "cell_type": "code",
   "execution_count": null,
   "id": "c54a97e1-1b55-4606-b5d9-f81482b1e269",
   "metadata": {},
   "outputs": [],
   "source": []
  }
 ],
 "metadata": {
  "kernelspec": {
   "display_name": "Python 3 (ipykernel)",
   "language": "python",
   "name": "python3"
  },
  "language_info": {
   "codemirror_mode": {
    "name": "ipython",
    "version": 3
   },
   "file_extension": ".py",
   "mimetype": "text/x-python",
   "name": "python",
   "nbconvert_exporter": "python",
   "pygments_lexer": "ipython3",
   "version": "3.12.3"
  }
 },
 "nbformat": 4,
 "nbformat_minor": 5
}
