{
 "cells": [
  {
   "cell_type": "code",
   "execution_count": 3,
   "id": "6b77aa42-7b51-4568-8a14-642a6c577afc",
   "metadata": {},
   "outputs": [
    {
     "ename": "SyntaxError",
     "evalue": "incomplete input (3681312048.py, line 3)",
     "output_type": "error",
     "traceback": [
      "\u001b[1;36m  Cell \u001b[1;32mIn[3], line 3\u001b[1;36m\u001b[0m\n\u001b[1;33m    print(testprint\u001b[0m\n\u001b[1;37m                   ^\u001b[0m\n\u001b[1;31mSyntaxError\u001b[0m\u001b[1;31m:\u001b[0m incomplete input\n"
     ]
    }
   ],
   "source": [
    "# leaving out one parenthesis\n",
    "\n",
    "print(testprint"
   ]
  },
  {
   "cell_type": "code",
   "execution_count": 4,
   "id": "09e4b1f7-c6de-4241-909c-8c0f01dbda04",
   "metadata": {},
   "outputs": [
    {
     "ename": "SyntaxError",
     "evalue": "Missing parentheses in call to 'print'. Did you mean print(...)? (926951087.py, line 3)",
     "output_type": "error",
     "traceback": [
      "\u001b[1;36m  Cell \u001b[1;32mIn[4], line 3\u001b[1;36m\u001b[0m\n\u001b[1;33m    print testprint\u001b[0m\n\u001b[1;37m    ^\u001b[0m\n\u001b[1;31mSyntaxError\u001b[0m\u001b[1;31m:\u001b[0m Missing parentheses in call to 'print'. Did you mean print(...)?\n"
     ]
    }
   ],
   "source": [
    "# leaving out both parentheses\n",
    "\n",
    "print testprint"
   ]
  },
  {
   "cell_type": "code",
   "execution_count": 5,
   "id": "52da3254-0936-4000-990a-19a5dd966920",
   "metadata": {},
   "outputs": [
    {
     "ename": "SyntaxError",
     "evalue": "unterminated string literal (detected at line 3) (149619278.py, line 3)",
     "output_type": "error",
     "traceback": [
      "\u001b[1;36m  Cell \u001b[1;32mIn[5], line 3\u001b[1;36m\u001b[0m\n\u001b[1;33m    print('hello world)\u001b[0m\n\u001b[1;37m          ^\u001b[0m\n\u001b[1;31mSyntaxError\u001b[0m\u001b[1;31m:\u001b[0m unterminated string literal (detected at line 3)\n"
     ]
    }
   ],
   "source": [
    "# Leaving out one quotation mark\n",
    "\n",
    "print('hello world)"
   ]
  },
  {
   "cell_type": "code",
   "execution_count": 6,
   "id": "0267b051-9170-43a6-8ccd-8bec8d73b142",
   "metadata": {},
   "outputs": [
    {
     "ename": "SyntaxError",
     "evalue": "invalid syntax. Perhaps you forgot a comma? (2423518405.py, line 3)",
     "output_type": "error",
     "traceback": [
      "\u001b[1;36m  Cell \u001b[1;32mIn[6], line 3\u001b[1;36m\u001b[0m\n\u001b[1;33m    print(hello world)\u001b[0m\n\u001b[1;37m          ^\u001b[0m\n\u001b[1;31mSyntaxError\u001b[0m\u001b[1;31m:\u001b[0m invalid syntax. Perhaps you forgot a comma?\n"
     ]
    }
   ],
   "source": [
    "# Leaving out botuh quotation marks\n",
    "\n",
    "print(hello world)"
   ]
  },
  {
   "cell_type": "code",
   "execution_count": 10,
   "id": "c8a155f9-c7f8-4de6-b409-1a1e2abf7b45",
   "metadata": {},
   "outputs": [
    {
     "data": {
      "text/plain": [
       "4"
      ]
     },
     "execution_count": 10,
     "metadata": {},
     "output_type": "execute_result"
    }
   ],
   "source": [
    "-2 # gives the number -2\n",
    "+2 # gives the number 2\n",
    "\n",
    "2++2 # gives 4. the psitive symbol does nothing because the number on ots own is assumed to be signed positive"
   ]
  },
  {
   "cell_type": "code",
   "execution_count": 12,
   "id": "1bdfcad7-bca7-4b67-945f-ebfea34780bc",
   "metadata": {},
   "outputs": [
    {
     "ename": "SyntaxError",
     "evalue": "leading zeros in decimal integer literals are not permitted; use an 0o prefix for octal integers (562524336.py, line 2)",
     "output_type": "error",
     "traceback": [
      "\u001b[1;36m  Cell \u001b[1;32mIn[12], line 2\u001b[1;36m\u001b[0m\n\u001b[1;33m    02 # is not allowed. leading zeroes not permitted\u001b[0m\n\u001b[1;37m    ^\u001b[0m\n\u001b[1;31mSyntaxError\u001b[0m\u001b[1;31m:\u001b[0m leading zeros in decimal integer literals are not permitted; use an 0o prefix for octal integers\n"
     ]
    }
   ],
   "source": [
    "2 # gives the number 2\n",
    "02 # is not allowed. leading zeroes not permitted"
   ]
  },
  {
   "cell_type": "code",
   "execution_count": 14,
   "id": "bf6f5d3d-fc07-4512-a80a-105d81df87a6",
   "metadata": {},
   "outputs": [
    {
     "data": {
      "text/plain": [
       "24"
      ]
     },
     "execution_count": 14,
     "metadata": {},
     "output_type": "execute_result"
    }
   ],
   "source": [
    "# two integers together\n",
    "24\n",
    "# this, of course, gives the number 24"
   ]
  },
  {
   "cell_type": "code",
   "execution_count": null,
   "id": "ccc3323a-ab2d-4368-a16c-ad621647e3b3",
   "metadata": {},
   "outputs": [],
   "source": []
  }
 ],
 "metadata": {
  "kernelspec": {
   "display_name": "Python 3 (ipykernel)",
   "language": "python",
   "name": "python3"
  },
  "language_info": {
   "codemirror_mode": {
    "name": "ipython",
    "version": 3
   },
   "file_extension": ".py",
   "mimetype": "text/x-python",
   "name": "python",
   "nbconvert_exporter": "python",
   "pygments_lexer": "ipython3",
   "version": "3.12.3"
  }
 },
 "nbformat": 4,
 "nbformat_minor": 5
}
