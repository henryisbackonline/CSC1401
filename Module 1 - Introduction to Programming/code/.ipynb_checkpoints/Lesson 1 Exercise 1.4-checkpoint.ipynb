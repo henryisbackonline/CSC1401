{
 "cells": [
  {
   "cell_type": "code",
   "execution_count": 3,
   "id": "12be6e0a-31d1-465b-9bd7-878c55c3d571",
   "metadata": {},
   "outputs": [
    {
     "name": "stdout",
     "output_type": "stream",
     "text": [
      "523.5987755982989\n"
     ]
    }
   ],
   "source": [
    "#The volume of a sphere with radius r is V=4/3*pi*r^3 What is the volume of a sphere with a radius of 5?   \n",
    "\n",
    "radius=5\n",
    "pi=3.1415926535897932385 # to 20 digits, more than enough for this\n",
    "\n",
    "volume=(4/3)*pi*radius**3\n",
    "print(volume)\n",
    "\n",
    "#checked with wolfram alpha, answer is 523.599 to three decimal places"
   ]
  },
  {
   "cell_type": "code",
   "execution_count": null,
   "id": "1a25418a-0985-40c0-9de3-8f51129a5672",
   "metadata": {},
   "outputs": [],
   "source": []
  }
 ],
 "metadata": {
  "kernelspec": {
   "display_name": "Python 3 (ipykernel)",
   "language": "python",
   "name": "python3"
  },
  "language_info": {
   "codemirror_mode": {
    "name": "ipython",
    "version": 3
   },
   "file_extension": ".py",
   "mimetype": "text/x-python",
   "name": "python",
   "nbconvert_exporter": "python",
   "pygments_lexer": "ipython3",
   "version": "3.12.3"
  }
 },
 "nbformat": 4,
 "nbformat_minor": 5
}
