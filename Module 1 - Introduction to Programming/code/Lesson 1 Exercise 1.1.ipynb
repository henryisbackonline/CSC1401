{
 "cells": [
  {
   "cell_type": "code",
   "execution_count": 15,
   "id": "74925de8-8f81-483f-bbca-1fdd2cd6c88a",
   "metadata": {},
   "outputs": [
    {
     "data": {
      "text/plain": [
       "2562"
      ]
     },
     "execution_count": 15,
     "metadata": {},
     "output_type": "execute_result"
    }
   ],
   "source": [
    "# how many seconds in 42 minues and 42 seconds\n",
    "## 42 minutes in seconds is 42*60, then add the 42 seconds to the end of that\n",
    "\n",
    "42*60+42"
   ]
  },
  {
   "cell_type": "code",
   "execution_count": 16,
   "id": "08780eb6-9286-4566-8dc7-a5ec91d19bb1",
   "metadata": {},
   "outputs": [
    {
     "data": {
      "text/plain": [
       "6.211180124223602"
      ]
     },
     "execution_count": 16,
     "metadata": {},
     "output_type": "execute_result"
    }
   ],
   "source": [
    "# How many miles are there in 10 kilometres?  Hint: there are 1.61 kilometres in a mile\n",
    "\n",
    "10/1.61"
   ]
  },
  {
   "cell_type": "code",
   "execution_count": 4,
   "id": "ef88da63-b8c2-40e8-8c20-28f32b6d5fe8",
   "metadata": {},
   "outputs": [
    {
     "name": "stdout",
     "output_type": "stream",
     "text": [
      "2562\n",
      "6.211180124223602\n",
      "412.482\n",
      "6.874700000000001\n",
      "0.11457833333333335\n",
      "60.00000000000001\n"
     ]
    }
   ],
   "source": [
    "# If you run a 10-kilometre race in 42 minutes 42 seconds, what is your average pace (time per mile in minutes and seconds)?  What is your average speed in miles per hour?\n",
    "\n",
    "# convert 42'42\" to seconds entirely\n",
    "# convert 10km to miles\n",
    "\n",
    "print(42*60+42) # all time in seconds\n",
    "print(10/1.61) # km in miles\n",
    "print(2562/6.211180124223602) # seconds per mile\n",
    "print(412.482/60) # seconds into minutes. This function gives the pace at 6.87 minutes\n",
    "\n",
    "# Now to find the speed in miles per hour\n",
    "\n",
    "## recall that 10km in miles is 6.211180124223602\n",
    "## divide minutes by 60 to get the time in hours\n",
    "## divide the number of miles by the number of hours to get the miles per hour\n",
    "\n",
    "print(6.874700000000001/60) #total time in minutes\n",
    "print(6.874700000000001/0.11457833333333334) # miles *per* hour means miles divided by hours\n",
    "\n",
    "## AT THIS POINT i have no idea if this is correct or not, but i think this is the best solution. I will have to wait and see for the answer.\n"
   ]
  },
  {
   "cell_type": "code",
   "execution_count": null,
   "id": "5f3350ba-1603-4dd2-8866-f2f638d334d6",
   "metadata": {},
   "outputs": [],
   "source": []
  }
 ],
 "metadata": {
  "kernelspec": {
   "display_name": "Python 3 (ipykernel)",
   "language": "python",
   "name": "python3"
  },
  "language_info": {
   "codemirror_mode": {
    "name": "ipython",
    "version": 3
   },
   "file_extension": ".py",
   "mimetype": "text/x-python",
   "name": "python",
   "nbconvert_exporter": "python",
   "pygments_lexer": "ipython3",
   "version": "3.12.3"
  }
 },
 "nbformat": 4,
 "nbformat_minor": 5
}
