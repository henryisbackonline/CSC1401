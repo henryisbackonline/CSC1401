{
 "cells": [
  {
   "cell_type": "code",
   "execution_count": 15,
   "id": "74925de8-8f81-483f-bbca-1fdd2cd6c88a",
   "metadata": {},
   "outputs": [
    {
     "data": {
      "text/plain": [
       "2562"
      ]
     },
     "execution_count": 15,
     "metadata": {},
     "output_type": "execute_result"
    }
   ],
   "source": [
    "# how many seconds in 42 minues and 42 seconds\n",
    "## 42 minutes in seconds is 42*60, then add the 42 seconds to the end of that\n",
    "\n",
    "42*60+42"
   ]
  },
  {
   "cell_type": "code",
   "execution_count": 16,
   "id": "08780eb6-9286-4566-8dc7-a5ec91d19bb1",
   "metadata": {},
   "outputs": [
    {
     "data": {
      "text/plain": [
       "6.211180124223602"
      ]
     },
     "execution_count": 16,
     "metadata": {},
     "output_type": "execute_result"
    }
   ],
   "source": [
    "# How many miles are there in 10 kilometres?  Hint: there are 1.61 kilometres in a mile\n",
    "\n",
    "10/1.61"
   ]
  },
  {
   "cell_type": "code",
   "execution_count": 8,
   "id": "ef88da63-b8c2-40e8-8c20-28f32b6d5fe8",
   "metadata": {},
   "outputs": [
    {
     "name": "stdout",
     "output_type": "stream",
     "text": [
      "Q3 part 1: pace is 6.87\n",
      "Q3 part 2: average speed is 8.73 miles per hour\n"
     ]
    }
   ],
   "source": [
    "# If you run a 10-kilometre race in 42 minutes 42 seconds, what is your average pace (time per mile in minutes and seconds)?  What is your average speed in miles per hour?\n",
    "\n",
    "# convert 42'42\" to seconds entirely\n",
    "# convert 10km to miles\n",
    "\n",
    "time_in_seconds=42*60+42\n",
    "distance_in_miles=10/1.61\n",
    "pace_seconds=time_in_seconds/distance_in_miles # seconds per mile\n",
    "pace=pace_seconds/60 # seconds into minutes. \n",
    "print('Q3 part 1: pace is', round(pace, 2)) #This function gives the pace at 6.87 minutes, rounding down using the round() function\n",
    "\n",
    "# Now to find the speed in miles per hour\n",
    "\n",
    "## recall that miles *per* hour means miles divided by hours\n",
    "## divide seconds by 36 00 to get time in hours\n",
    "\n",
    "avg_speed=distance_in_miles/(time_in_seconds/3600)\n",
    "print('Q3 part 2: average speed is', round(avg_speed, 2),'miles per hour')\n"
   ]
  },
  {
   "cell_type": "code",
   "execution_count": null,
   "id": "5f3350ba-1603-4dd2-8866-f2f638d334d6",
   "metadata": {},
   "outputs": [],
   "source": []
  }
 ],
 "metadata": {
  "kernelspec": {
   "display_name": "base",
   "language": "python",
   "name": "python3"
  },
  "language_info": {
   "codemirror_mode": {
    "name": "ipython",
    "version": 3
   },
   "file_extension": ".py",
   "mimetype": "text/x-python",
   "name": "python",
   "nbconvert_exporter": "python",
   "pygments_lexer": "ipython3",
   "version": "3.12.3"
  }
 },
 "nbformat": 4,
 "nbformat_minor": 5
}
