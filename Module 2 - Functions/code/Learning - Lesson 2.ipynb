{
 "cells": [
  {
   "cell_type": "code",
   "execution_count": 11,
   "id": "991df364-1ce6-44f3-a945-61dae2d943c4",
   "metadata": {},
   "outputs": [
    {
     "data": {
      "text/plain": [
       "int"
      ]
     },
     "execution_count": 11,
     "metadata": {},
     "output_type": "execute_result"
    }
   ],
   "source": [
    "type(42) # this is a function call that requests the kind of characters inside the function, in this case, 42 ks an integer, so the function returns int"
   ]
  },
  {
   "cell_type": "code",
   "execution_count": 12,
   "id": "99a8c84d-d5e7-4861-83ba-2abdc0e92d7b",
   "metadata": {},
   "outputs": [],
   "source": [
    "#The name of the function is type.  \n",
    "#The expression in parentheses is called the argument of the function. \n",
    "#The result, for this function, is the type of the argument. "
   ]
  },
  {
   "cell_type": "code",
   "execution_count": 13,
   "id": "833ec750-3d0d-4a72-b865-2623f4bd6315",
   "metadata": {},
   "outputs": [
    {
     "name": "stdout",
     "output_type": "stream",
     "text": [
      "32\n",
      "5354\n"
     ]
    }
   ],
   "source": [
    "#int function will take a numerical value and turn it into an integer\n",
    "\n",
    "print(int('32'))\n",
    "print(int(5354.01587))  #note that int removes the point and all numbers after. no rounding, just removal. this is integer conversion.\n",
    "#print(int('hello'))\n",
    "\n",
    "#'hello' does not work because hello is not a value. the input for int must be a numerical value"
   ]
  },
  {
   "cell_type": "code",
   "execution_count": 14,
   "id": "f28683b1-cef9-404b-9f84-b74bb4b00d22",
   "metadata": {},
   "outputs": [],
   "source": [
    "# float() will convert mumerical values into floating points\n",
    "# string() converts its argument into a string"
   ]
  },
  {
   "cell_type": "code",
   "execution_count": 15,
   "id": "3122c440-851c-41f3-ae07-538d76ae3d44",
   "metadata": {},
   "outputs": [],
   "source": [
    "import math #funtion that import a python module called 'math'\n",
    "# there are no parenthesis. do not make this mistake twice."
   ]
  },
  {
   "cell_type": "code",
   "execution_count": 16,
   "id": "85279898-dba1-4f76-b290-8e472958acb7",
   "metadata": {},
   "outputs": [
    {
     "data": {
      "text/plain": [
       "<module 'math' (built-in)>"
      ]
     },
     "execution_count": 16,
     "metadata": {},
     "output_type": "execute_result"
    }
   ],
   "source": [
    "math"
   ]
  },
  {
   "cell_type": "code",
   "execution_count": 17,
   "id": "03785779-f6b2-46bf-be0b-1224dffcff69",
   "metadata": {},
   "outputs": [],
   "source": [
    "signal_power=81\n",
    "noise_power=17\n",
    "\n",
    "ratio=signal_power/noise_power\n",
    "decibels=10*math.log10(ratio)\n",
    "radians=10\n",
    "height=math.sin(radians)"
   ]
  },
  {
   "cell_type": "code",
   "execution_count": 18,
   "id": "c195a399",
   "metadata": {},
   "outputs": [],
   "source": [
    "import math"
   ]
  },
  {
   "cell_type": "code",
   "execution_count": 19,
   "id": "5eeb4665",
   "metadata": {},
   "outputs": [
    {
     "data": {
      "text/plain": [
       "3.141592653589793"
      ]
     },
     "execution_count": 19,
     "metadata": {},
     "output_type": "execute_result"
    }
   ],
   "source": [
    "math.pi"
   ]
  },
  {
   "cell_type": "code",
   "execution_count": 20,
   "id": "c62ea7e1",
   "metadata": {},
   "outputs": [
    {
     "name": "stdout",
     "output_type": "stream",
     "text": [
      "0.644217687237691\n"
     ]
    }
   ],
   "source": [
    "radians=0.7\n",
    "height=math.sin(radians)\n",
    "print(height)"
   ]
  },
  {
   "cell_type": "code",
   "execution_count": 21,
   "id": "cb7ea133",
   "metadata": {},
   "outputs": [
    {
     "name": "stdout",
     "output_type": "stream",
     "text": [
      "0.7853981633974483\n"
     ]
    },
    {
     "data": {
      "text/plain": [
       "0.7071067811865476"
      ]
     },
     "execution_count": 21,
     "metadata": {},
     "output_type": "execute_result"
    }
   ],
   "source": [
    "#convert between degrees and radians\n",
    "\n",
    "degrees=45\n",
    "radians=degrees/180*math.pi\n",
    "print(radians)\n",
    "math.sin(radians)"
   ]
  },
  {
   "cell_type": "code",
   "execution_count": 22,
   "id": "8a6b9af9",
   "metadata": {},
   "outputs": [
    {
     "data": {
      "text/plain": [
       "0.7071067811865476"
      ]
     },
     "execution_count": 22,
     "metadata": {},
     "output_type": "execute_result"
    }
   ],
   "source": [
    "math.sqrt(2)/2.0"
   ]
  },
  {
   "cell_type": "code",
   "execution_count": 23,
   "id": "ca192b13",
   "metadata": {},
   "outputs": [],
   "source": [
    "##### ==== COMPOSITION ==== #####"
   ]
  },
  {
   "cell_type": "code",
   "execution_count": 24,
   "id": "538902cf",
   "metadata": {},
   "outputs": [
    {
     "name": "stdout",
     "output_type": "stream",
     "text": [
      "0.7071067811865476\n"
     ]
    }
   ],
   "source": [
    "x=math.sin(degrees/360*2*math.pi)\n",
    "print(x)\n",
    "\n",
    "# argument of a afunctio can ban an arithmetic operator"
   ]
  },
  {
   "cell_type": "code",
   "execution_count": 25,
   "id": "dfd852ca",
   "metadata": {},
   "outputs": [
    {
     "name": "stdout",
     "output_type": "stream",
     "text": [
      "1.7071067811865475\n"
     ]
    }
   ],
   "source": [
    "y=math.exp(math.log(x+1))\n",
    "print(y)\n",
    "\n",
    "# argument can also be another function call"
   ]
  },
  {
   "cell_type": "code",
   "execution_count": 26,
   "id": "d955e987",
   "metadata": {},
   "outputs": [],
   "source": [
    "# we can define new functions in python\n",
    "\n",
    "def print_lyrics(): # empty parenthesis indicate that this function takes no arguments\n",
    "    print(\"So go tell your grandson, to go tell his grandson\")\n",
    "    print(\"You don't have to try so hard, you know?\")\n",
    "\n",
    "# 'def' defines a function\n",
    "# all same function properties apply: lettersn, numbers, and underscores are legal, but CANNOT start with  number\n",
    "# no keywords in function either - python will tell you what these are though\n",
    "# VARIABLE AND FUNCTION MUST NOT HAVE THE SAME NAME\n",
    "\n",
    "\n",
    "##### FUNCTION STRUCTURE #####\n",
    "\n",
    "# first line is the header, rest is called body (like html)\n",
    "# header always ends with colon, body always indented to beyond 'def' (4 column spaces in monospace)\n",
    "# functions ends at empty line - must have this, no comments, no nothing"
   ]
  },
  {
   "cell_type": "code",
   "execution_count": 27,
   "id": "b5cd1f15",
   "metadata": {},
   "outputs": [
    {
     "name": "stdout",
     "output_type": "stream",
     "text": [
      "So go tell your grandson, to go tell his grandson\n",
      "You don't have to try so hard, you know?\n"
     ]
    }
   ],
   "source": [
    "# acll the function you just defineed - same as any other function\n",
    "\n",
    "print_lyrics()"
   ]
  },
  {
   "cell_type": "code",
   "execution_count": 28,
   "id": "6518a855",
   "metadata": {},
   "outputs": [
    {
     "name": "stdout",
     "output_type": "stream",
     "text": [
      "So go tell your grandson, to go tell his grandson\n",
      "You don't have to try so hard, you know?\n",
      "So go tell your grandson, to go tell his grandson\n",
      "You don't have to try so hard, you know?\n"
     ]
    }
   ],
   "source": [
    "# like other functions, can use them inside other functions. we will define a new function here:\n",
    "\n",
    "def repeat_lyrics():\n",
    "    print_lyrics()\n",
    "    print_lyrics()\n",
    "\n",
    "#then call repeat_lyrics\n",
    "\n",
    "repeat_lyrics()\n"
   ]
  },
  {
   "cell_type": "code",
   "execution_count": 29,
   "id": "c7094bea",
   "metadata": {},
   "outputs": [
    {
     "name": "stdout",
     "output_type": "stream",
     "text": [
      "So go tell your grandson, to go tell his grandson\n",
      "You don't have to try so hard, you know?\n",
      "So go tell your grandson, to go tell his grandson\n",
      "You don't have to try so hard, you know?\n"
     ]
    }
   ],
   "source": [
    "# pull it all together\n",
    "\n",
    "def print_lyrics():\n",
    "    print(\"So go tell your grandson, to go tell his grandson\")\n",
    "    print(\"You don't have to try so hard, you know?\")\n",
    "\n",
    "def repeat_lyrics():\n",
    "    print_lyrics()\n",
    "    print_lyrics()\n",
    "\n",
    "repeat_lyrics()"
   ]
  },
  {
   "cell_type": "code",
   "execution_count": 38,
   "id": "1ba73eb7",
   "metadata": {},
   "outputs": [
    {
     "name": "stdout",
     "output_type": "stream",
     "text": [
      "spam\n",
      "spam\n",
      "42\n",
      "42\n",
      "3.141592653589793\n",
      "3.141592653589793\n"
     ]
    }
   ],
   "source": [
    "# Inside the function, the arguments are assigned to variables called parameters.\n",
    "def print_twice(bruce):\n",
    "    print(bruce)\n",
    "    print(bruce)\n",
    "\n",
    "# This function assigns the argument to a parameter named bruce. \n",
    "# When the function is called, it prints the value of the parameter (whatever it is) twice.\n",
    "# THE PARAMETER IS NAMED BRUCE. THE FUNCTION WILL NOT PRINT 'BRUCE'\n",
    "\n",
    "print_twice('spam')\n",
    "\n",
    "print_twice(42)\n",
    "\n",
    "print_twice(math.pi)"
   ]
  },
  {
   "cell_type": "code",
   "execution_count": 39,
   "id": "1f8bde89",
   "metadata": {},
   "outputs": [
    {
     "name": "stdout",
     "output_type": "stream",
     "text": [
      "good grief\n",
      "good grief\n"
     ]
    }
   ],
   "source": [
    "# you can use a vriable as an argument\n",
    "george='good grief'\n",
    "print_twice(george)"
   ]
  },
  {
   "cell_type": "code",
   "execution_count": 40,
   "id": "60ef3c51",
   "metadata": {},
   "outputs": [],
   "source": [
    "# When you create a variable inside a function, it is local, which means that it only exists inside the function\n",
    "\n",
    "def printtwice(part1, part2):\n",
    "    product=part1+part2\n",
    "    printtwice(product)\n",
    "\n",
    "# This function takes two arguments, concatenates them, and prints the result twice\n",
    "\n",
    "part1='hey man'\n",
    "part2=\"what's good\""
   ]
  },
  {
   "cell_type": "code",
   "execution_count": 43,
   "id": "2cd9d7de",
   "metadata": {},
   "outputs": [
    {
     "ename": "NameError",
     "evalue": "name 'product' is not defined",
     "output_type": "error",
     "traceback": [
      "\u001b[1;31m---------------------------------------------------------------------------\u001b[0m",
      "\u001b[1;31mNameError\u001b[0m                                 Traceback (most recent call last)",
      "Cell \u001b[1;32mIn[43], line 1\u001b[0m\n\u001b[1;32m----> 1\u001b[0m \u001b[38;5;28mprint\u001b[39m(product)\n",
      "\u001b[1;31mNameError\u001b[0m: name 'product' is not defined"
     ]
    }
   ],
   "source": [
    "print(product)\n",
    "\n",
    "# We get this error because 'product' is not defined outside of the function. This means that the variable 'product' is destoryed once the function has run.\n",
    "\n",
    "# this is the same thing with 'bruce'. outside of print_twice, there's no such thing as 'bruce'"
   ]
  },
  {
   "cell_type": "code",
   "execution_count": null,
   "id": "0999cf41",
   "metadata": {},
   "outputs": [],
   "source": []
  }
 ],
 "metadata": {
  "kernelspec": {
   "display_name": "base",
   "language": "python",
   "name": "python3"
  },
  "language_info": {
   "codemirror_mode": {
    "name": "ipython",
    "version": 3
   },
   "file_extension": ".py",
   "mimetype": "text/x-python",
   "name": "python",
   "nbconvert_exporter": "python",
   "pygments_lexer": "ipython3",
   "version": "3.12.3"
  }
 },
 "nbformat": 4,
 "nbformat_minor": 5
}
