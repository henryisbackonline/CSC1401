{
 "cells": [
  {
   "cell_type": "code",
   "execution_count": 1,
   "id": "991df364-1ce6-44f3-a945-61dae2d943c4",
   "metadata": {},
   "outputs": [
    {
     "data": {
      "text/plain": [
       "int"
      ]
     },
     "execution_count": 1,
     "metadata": {},
     "output_type": "execute_result"
    }
   ],
   "source": [
    "type(42) # this is a function call that requests the kind of characters inside the function, in this case, 42 ks an integer, so the function returns int"
   ]
  },
  {
   "cell_type": "code",
   "execution_count": 2,
   "id": "99a8c84d-d5e7-4861-83ba-2abdc0e92d7b",
   "metadata": {},
   "outputs": [],
   "source": [
    "#The name of the function is type.  \n",
    "#The expression in parentheses is called the argument of the function. \n",
    "#The result, for this function, is the type of the argument. "
   ]
  },
  {
   "cell_type": "code",
   "execution_count": 3,
   "id": "833ec750-3d0d-4a72-b865-2623f4bd6315",
   "metadata": {},
   "outputs": [
    {
     "name": "stdout",
     "output_type": "stream",
     "text": [
      "32\n",
      "5354\n"
     ]
    },
    {
     "ename": "ValueError",
     "evalue": "invalid literal for int() with base 10: 'hello'",
     "output_type": "error",
     "traceback": [
      "\u001b[1;31m---------------------------------------------------------------------------\u001b[0m",
      "\u001b[1;31mValueError\u001b[0m                                Traceback (most recent call last)",
      "Cell \u001b[1;32mIn[3], line 5\u001b[0m\n\u001b[0;32m      3\u001b[0m \u001b[38;5;28mprint\u001b[39m(\u001b[38;5;28mint\u001b[39m(\u001b[38;5;124m'\u001b[39m\u001b[38;5;124m32\u001b[39m\u001b[38;5;124m'\u001b[39m))\n\u001b[0;32m      4\u001b[0m \u001b[38;5;28mprint\u001b[39m(\u001b[38;5;28mint\u001b[39m(\u001b[38;5;241m5354.01587\u001b[39m))  \u001b[38;5;66;03m#note that int removes the point and all numbers after. no rounding, just removal. this is integer conversion.\u001b[39;00m\n\u001b[1;32m----> 5\u001b[0m \u001b[38;5;28mprint\u001b[39m(\u001b[38;5;28mint\u001b[39m(\u001b[38;5;124m'\u001b[39m\u001b[38;5;124mhello\u001b[39m\u001b[38;5;124m'\u001b[39m))\n",
      "\u001b[1;31mValueError\u001b[0m: invalid literal for int() with base 10: 'hello'"
     ]
    }
   ],
   "source": [
    "#int function will take a numerical value and turn it into an integer\n",
    "\n",
    "print(int('32'))\n",
    "print(int(5354.01587))  #note that int removes the point and all numbers after. no rounding, just removal. this is integer conversion.\n",
    "print(int('hello'))\n",
    "\n",
    "#'hello' does not work because hello is not a value. the input for int must be a numerical value"
   ]
  },
  {
   "cell_type": "code",
   "execution_count": null,
   "id": "f28683b1-cef9-404b-9f84-b74bb4b00d22",
   "metadata": {},
   "outputs": [],
   "source": [
    "# float() will convert mumerical values into floating points\n",
    "# string() converts its argument into a string"
   ]
  },
  {
   "cell_type": "code",
   "execution_count": null,
   "id": "3122c440-851c-41f3-ae07-538d76ae3d44",
   "metadata": {},
   "outputs": [],
   "source": [
    "import math #funtion that import a python module called 'math'\n",
    "# there are no parenthesis. do not make this mistake twice."
   ]
  },
  {
   "cell_type": "code",
   "execution_count": null,
   "id": "85279898-dba1-4f76-b290-8e472958acb7",
   "metadata": {},
   "outputs": [
    {
     "data": {
      "text/plain": [
       "<module 'math' (built-in)>"
      ]
     },
     "execution_count": 11,
     "metadata": {},
     "output_type": "execute_result"
    }
   ],
   "source": [
    "math"
   ]
  },
  {
   "cell_type": "code",
   "execution_count": 1,
   "id": "03785779-f6b2-46bf-be0b-1224dffcff69",
   "metadata": {},
   "outputs": [
    {
     "ename": "NameError",
     "evalue": "name 'signal_power' is not defined",
     "output_type": "error",
     "traceback": [
      "\u001b[1;31m---------------------------------------------------------------------------\u001b[0m",
      "\u001b[1;31mNameError\u001b[0m                                 Traceback (most recent call last)",
      "Cell \u001b[1;32mIn[1], line 1\u001b[0m\n\u001b[1;32m----> 1\u001b[0m ratio\u001b[38;5;241m=\u001b[39msignal_power\u001b[38;5;241m/\u001b[39mnoise_power\n\u001b[0;32m      2\u001b[0m decibels\u001b[38;5;241m=\u001b[39m\u001b[38;5;241m10\u001b[39m\u001b[38;5;241m*\u001b[39mmath\u001b[38;5;241m.\u001b[39mlog10(ratio)\n\u001b[0;32m      3\u001b[0m radians\u001b[38;5;241m=\u001b[39m\u001b[38;5;241m10\u001b[39m\n",
      "\u001b[1;31mNameError\u001b[0m: name 'signal_power' is not defined"
     ]
    }
   ],
   "source": [
    "ratio=signal_power/noise_power\n",
    "decibels=10*math.log10(ratio)\n",
    "radians=10\n",
    "height=math.sin(radians)"
   ]
  },
  {
   "cell_type": "code",
   "execution_count": null,
   "id": "ebf69b0f-4c2c-4c74-ad08-f8bd024c9693",
   "metadata": {},
   "outputs": [],
   "source": []
  }
 ],
 "metadata": {
  "kernelspec": {
   "display_name": "Python 3 (ipykernel)",
   "language": "python",
   "name": "python3"
  },
  "language_info": {
   "codemirror_mode": {
    "name": "ipython",
    "version": 3
   },
   "file_extension": ".py",
   "mimetype": "text/x-python",
   "name": "python",
   "nbconvert_exporter": "python",
   "pygments_lexer": "ipython3",
   "version": "3.12.3"
  }
 },
 "nbformat": 4,
 "nbformat_minor": 5
}
