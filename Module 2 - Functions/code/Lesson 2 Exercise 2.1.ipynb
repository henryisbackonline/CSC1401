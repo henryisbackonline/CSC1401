{
 "cells": [
  {
   "cell_type": "code",
   "execution_count": null,
   "metadata": {},
   "outputs": [],
   "source": [
    "len('monty')"
   ]
  },
  {
   "cell_type": "code",
   "execution_count": 24,
   "metadata": {},
   "outputs": [
    {
     "name": "stdout",
     "output_type": "stream",
     "text": [
      "5\n",
      "                                                                 \n"
     ]
    },
    {
     "ename": "TypeError",
     "evalue": "can only concatenate str (not \"int\") to str",
     "output_type": "error",
     "traceback": [
      "\u001b[1;31m---------------------------------------------------------------------------\u001b[0m",
      "\u001b[1;31mTypeError\u001b[0m                                 Traceback (most recent call last)",
      "Cell \u001b[1;32mIn[24], line 23\u001b[0m\n\u001b[0;32m     20\u001b[0m \u001b[38;5;28;01mdef\u001b[39;00m \u001b[38;5;21mright_justify\u001b[39m(s):\n\u001b[0;32m     21\u001b[0m     s\u001b[38;5;241m+\u001b[39mstringlength\n\u001b[1;32m---> 23\u001b[0m right_justify(\u001b[38;5;124m'\u001b[39m\u001b[38;5;124mmonty\u001b[39m\u001b[38;5;124m'\u001b[39m)\n\u001b[0;32m     24\u001b[0m \u001b[38;5;28mprint\u001b[39m(right_justify)\n",
      "Cell \u001b[1;32mIn[24], line 21\u001b[0m, in \u001b[0;36mright_justify\u001b[1;34m(s)\u001b[0m\n\u001b[0;32m     20\u001b[0m \u001b[38;5;28;01mdef\u001b[39;00m \u001b[38;5;21mright_justify\u001b[39m(s):\n\u001b[1;32m---> 21\u001b[0m     s\u001b[38;5;241m+\u001b[39mstringlength\n",
      "\u001b[1;31mTypeError\u001b[0m: can only concatenate str (not \"int\") to str"
     ]
    }
   ],
   "source": [
    "# def char():\n",
    "#     print('m')\n",
    "\n",
    "# for i in range(65):\n",
    "#      print(char+'m')\n",
    "\n",
    "stringlength=len('monty')\n",
    "\n",
    "print(stringlength)\n",
    "\n",
    "\n",
    "\n",
    "# for i in range(70-stringlength):\n",
    "#     print('m')\n",
    "\n",
    "spacing=(' '*(70-stringlength))\n",
    "\n",
    "print(spacing)\n",
    "\n",
    "def right_justify(s):\n",
    "    s+stringlength\n",
    "\n",
    "right_justify('monty')\n",
    "print(right_justify)\n"
   ]
  },
  {
   "cell_type": "code",
   "execution_count": null,
   "metadata": {},
   "outputs": [],
   "source": [
    "right_justify('monty')"
   ]
  }
 ],
 "metadata": {
  "kernelspec": {
   "display_name": "base",
   "language": "python",
   "name": "python3"
  },
  "language_info": {
   "codemirror_mode": {
    "name": "ipython",
    "version": 3
   },
   "file_extension": ".py",
   "mimetype": "text/x-python",
   "name": "python",
   "nbconvert_exporter": "python",
   "pygments_lexer": "ipython3",
   "version": "3.12.3"
  }
 },
 "nbformat": 4,
 "nbformat_minor": 2
}
