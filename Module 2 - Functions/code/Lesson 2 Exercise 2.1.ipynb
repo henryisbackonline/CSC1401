{
 "cells": [
  {
   "cell_type": "code",
   "execution_count": 7,
   "metadata": {},
   "outputs": [
    {
     "data": {
      "text/plain": [
       "5"
      ]
     },
     "execution_count": 7,
     "metadata": {},
     "output_type": "execute_result"
    }
   ],
   "source": [
    "len('monty')"
   ]
  },
  {
   "cell_type": "code",
   "execution_count": 1,
   "metadata": {},
   "outputs": [
    {
     "name": "stdout",
     "output_type": "stream",
     "text": [
      "5\n",
      "                                                                 \n"
     ]
    }
   ],
   "source": [
    "# def char():\n",
    "#     print('m')\n",
    "\n",
    "# for i in range(65):\n",
    "#      print(char+'m')\n",
    "\n",
    "stringlength=len('monty')\n",
    "\n",
    "print(stringlength)\n",
    "\n",
    "\n",
    "\n",
    "# for i in range(70-stringlength):\n",
    "#     print('m')\n",
    "\n",
    "spacing=(' '*(70-stringlength))\n",
    "\n",
    "print(spacing)\n",
    "\n",
    "\n"
   ]
  },
  {
   "cell_type": "code",
   "execution_count": null,
   "metadata": {},
   "outputs": [
    {
     "name": "stdout",
     "output_type": "stream",
     "text": [
      "                                                                  test\n",
      "                                                                 monty\n",
      "if somebody told me i'd die at 40, i wouldn't have spent my time in bed\n"
     ]
    }
   ],
   "source": [
    "def right_justify(s):\n",
    "    # docstring here\n",
    "    \"\"\"\n",
    "    Summary:\n",
    "        right_justify takes an input string and adds space characters to the start.\n",
    "        The result is 70 characters long, with the final character of the input string in the 70th column.\n",
    "\n",
    "    Parameters:\n",
    "        s (str) - input string\n",
    "        stringlength (int) - length of input string\n",
    "        outputlength (int) - lenth of output string\n",
    "        output(str) - output string\n",
    "    \"\"\"\n",
    "    output = \"\" # output is empty at this stage. this is because the characters need to be addes to output first. the result of output will be redefined later in the function\n",
    "    stringlength = len(s)\n",
    "    outputlength = 70-stringlength\n",
    "\n",
    "    for i in range(outputlength):\n",
    "        output += \" \"\n",
    "        # '+=' is a modifier that performs string concatenation. \n",
    "        # it iterates over the string and appends the value: + the new value to the previous string, = the result of the addition to the variable\n",
    "        #\n",
    "        # the for loop is what repeats the process. Loop works like this:\n",
    "        #    1: Take the range of the output length (in this case, 70 minus the length of the input string) and use this value as the range for the loop\n",
    "        #    2: Concatenate a whitespace to the output \n",
    "        #    3: let the output equal the new concatenated value\n",
    "        #    4: Loop finished. Haed back to the start having completed one loop of the total umber (range) of loops.\n",
    "        #    5: Repeat until range is exhaused \n",
    "    \n",
    "    output += s\n",
    "    # '+=' here takes the concatenated whitespace string and appends the input string to the whitespace string\n",
    "\n",
    "    print(output) # this is the final stap of the function\n",
    "                  # output has been redefined as (number of space characters defined by outputlength) + s (the input string from right_justify)\n",
    "                  # printing this concatenated output reveals text that is \"justified\" to column 70\n",
    "\n",
    "\n",
    "\n",
    "##### TESTING #####\n",
    "\n",
    "right_justify('test')\n",
    "right_justify('monty')\n",
    "right_justify(\"if somebody told me i'd die at 40, i wouldn't have spent my time in bed\")\n",
    "# the above string is 72 characters. this is above the 70 character space appending, which means that no spaces are appended.\n",
    "# this result just outside  of the size, so it will spill over. it will still be \"justified\" but just not appear that way."
   ]
  },
  {
   "cell_type": "code",
   "execution_count": null,
   "metadata": {},
   "outputs": [
    {
     "name": "stdout",
     "output_type": "stream",
     "text": [
      "                                                                 monty\n",
      "                                                     iPhone 14 Pro Max\n",
      "                                               Steve's going to London\n"
     ]
    }
   ],
   "source": [
    "##### Condense it #####\n",
    "\n",
    "def right_justify(s):\n",
    "    \"\"\"\n",
    "    Summary:\n",
    "        right_justify takes an input string and adds space characters to the start.\n",
    "        The result is 70 characters long, with the final character of the input string in the 70th column.\n",
    "\n",
    "    Parameters:\n",
    "        s (str) - input string\n",
    "        stringlength (int) - length of input string\n",
    "        outputlength (int) - lenth of output string\n",
    "        output(str) - output string\n",
    "    \"\"\"\n",
    "    output = \"\"\n",
    "    stringlength = len(s)\n",
    "    outputlength = 70-stringlength\n",
    "\n",
    "    for i in range(outputlength):\n",
    "        output += \" \"\n",
    "    \n",
    "    output += s\n",
    "\n",
    "    print(output)\n",
    "\n",
    "right_justify('monty')\n",
    "right_justify('iPhone 14 Pro Max')\n",
    "right_justify(\"Steve's going to London\")"
   ]
  },
  {
   "cell_type": "code",
   "execution_count": null,
   "metadata": {},
   "outputs": [
    {
     "name": "stdout",
     "output_type": "stream",
     "text": [
      "                                                                 monty\n"
     ]
    }
   ],
   "source": [
    "##### SIMPLIFIED VERSION #####\n",
    "\n",
    "def right_justify(s):\n",
    "    \"\"\"\n",
    "    Summary:\n",
    "        right_justify takes an input string and adds space characters to the start.\n",
    "        The result is 70 characters long, with the final character of the input string in the 70th column.\n",
    "    \n",
    "    \"\"\"\n",
    "    space=' '                   \n",
    "    result=(70-len(s))*space+s   \n",
    "    print(result)\n",
    "\n",
    "# The function works this way:\n",
    "\n",
    "#   1. Define the variable 'space' as a single whitespace character\n",
    "\n",
    "#   2. Define the variable 'result':\n",
    "#     a. First, 70 minus the length of argument 's' (the input string) is calculated. This gives the number of spaces to appear at the start of the result.\n",
    "#     b. Then, multiply 'space' by the result of 70-(len(s)). This is string repetition. Recall that multiplying strings concatenates them - 'h'*5 results in 'hhhhh'\n",
    "#     c. Finally, add the argument 's' to the end of the spaces. Recall that this will not print 's' as a string, but rather the input from 's'. \n",
    "\n",
    "#   3. Print the output of the function 'result'\n",
    "\n",
    "right_justify('monty')"
   ]
  },
  {
   "cell_type": "code",
   "execution_count": null,
   "metadata": {},
   "outputs": [],
   "source": []
  }
 ],
 "metadata": {
  "kernelspec": {
   "display_name": "base",
   "language": "python",
   "name": "python3"
  },
  "language_info": {
   "codemirror_mode": {
    "name": "ipython",
    "version": 3
   },
   "file_extension": ".py",
   "mimetype": "text/x-python",
   "name": "python",
   "nbconvert_exporter": "python",
   "pygments_lexer": "ipython3",
   "version": "3.12.3"
  }
 },
 "nbformat": 4,
 "nbformat_minor": 2
}
